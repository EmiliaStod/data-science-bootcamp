{
 "cells": [
  {
   "cell_type": "markdown",
   "metadata": {},
   "source": [
    "Statystyka \n",
    "mamy grupę 5 studentów \n",
    "badana cecha x --> ocena z egzaminu"
   ]
  },
  {
   "cell_type": "code",
   "execution_count": 4,
   "metadata": {},
   "outputs": [
    {
     "name": "stdout",
     "output_type": "stream",
     "text": [
      "[3.  4.5 5.  4.5 3. ]\n"
     ]
    }
   ],
   "source": [
    "import numpy as np\n",
    "X_ocena=np.array([3,4.5,5,4.5,3])\n",
    "print(X_ocena)"
   ]
  },
  {
   "cell_type": "markdown",
   "metadata": {},
   "source": [
    "Statystyka \n",
    "mamy grupę 5 studentów \n",
    "badana cecha x --> wzrost studenta"
   ]
  },
  {
   "cell_type": "code",
   "execution_count": 2,
   "metadata": {},
   "outputs": [
    {
     "name": "stdout",
     "output_type": "stream",
     "text": [
      "[185.  179.5 168.  192.  185.5]\n"
     ]
    }
   ],
   "source": [
    "X_wzrost=np.array([185.0,179.5,168.0,192.0,185.5])\n",
    "print(X_wzrost)"
   ]
  },
  {
   "cell_type": "code",
   "execution_count": 5,
   "metadata": {},
   "outputs": [
    {
     "data": {
      "text/plain": [
       "4.0"
      ]
     },
     "execution_count": 5,
     "metadata": {},
     "output_type": "execute_result"
    }
   ],
   "source": [
    "X_ocena.mean()"
   ]
  },
  {
   "cell_type": "code",
   "execution_count": 6,
   "metadata": {},
   "outputs": [
    {
     "data": {
      "text/plain": [
       "4.5"
      ]
     },
     "execution_count": 6,
     "metadata": {},
     "output_type": "execute_result"
    }
   ],
   "source": [
    "np.median(X_ocena)"
   ]
  },
  {
   "cell_type": "markdown",
   "metadata": {},
   "source": [
    "miara rozrzutu- SREDNI BŁĄD\n",
    "liczymy najpierw srednią zbioru, a pozniej kazda wartosc w zbiorze odejmujemy od sredniej z calego zbioru to dajemy jako moduł i wszytsko dodajemy\n",
    "![alt text](image.png)"
   ]
  },
  {
   "cell_type": "markdown",
   "metadata": {},
   "source": [
    "![alt text](image-2.png)"
   ]
  },
  {
   "cell_type": "code",
   "execution_count": 10,
   "metadata": {},
   "outputs": [
    {
     "name": "stdout",
     "output_type": "stream",
     "text": [
      "X mean 3.8333\n",
      "Y mean 3.6667\n"
     ]
    }
   ],
   "source": [
    "X=[3.5,4.0,4.0]\n",
    "Y=[2.0,4.0,5.0]\n",
    "\n",
    "X_mean=np.mean(X)\n",
    "Y_mean=np.mean(Y)\n",
    "\n",
    "print(f'X mean {X_mean:.4f}')\n",
    "print(f'Y mean {Y_mean:.4f}')"
   ]
  },
  {
   "cell_type": "code",
   "execution_count": 11,
   "metadata": {},
   "outputs": [
    {
     "name": "stdout",
     "output_type": "stream",
     "text": [
      "Sredni błąd z x:0.2222\n",
      "Sredni blad z y:1.1111\n"
     ]
    }
   ],
   "source": [
    "b_X=1/len(X) * (abs(X-X_mean).sum())\n",
    "b_Y=1/len(Y) * (abs(Y-Y_mean).sum())\n",
    "\n",
    "print(f'Sredni błąd z x:{b_X:.4f}')\n",
    "print(f'Sredni blad z y:{b_Y:.4f}')"
   ]
  },
  {
   "cell_type": "markdown",
   "metadata": {},
   "source": [
    "Wariancja podnosimy do kwadratu jedynie wyniki z odejmowania wartosci zbioru od sredniej zbioru ![alt text](image-1.png)"
   ]
  },
  {
   "cell_type": "markdown",
   "metadata": {},
   "source": [
    "Odchylenie standardowe to dodatkowy pierwiastek dodany do wyniku wariancji![alt text](image-3.png)"
   ]
  },
  {
   "cell_type": "code",
   "execution_count": 13,
   "metadata": {},
   "outputs": [
    {
     "name": "stdout",
     "output_type": "stream",
     "text": [
      "wariancja zmiennej x:0.0556\n",
      "wariancja zmiennej y:1.5556\n",
      "odchylenie standardowe x:0.2357\n",
      "odchylenie standardowe y:1.2472\n"
     ]
    }
   ],
   "source": [
    "var_X=1/len(X) * ((X-X_mean)**2).sum()\n",
    "var_Y=1/len(Y) * ((Y-Y_mean)**2).sum()\n",
    "\n",
    "\n",
    "print(f'wariancja zmiennej x:{var_X:.4f}')\n",
    "print(f'wariancja zmiennej y:{var_Y:.4f}')\n",
    "\n",
    "std_X=np.sqrt(var_X)\n",
    "std_Y=np.sqrt(var_Y)\n",
    "\n",
    "\n",
    "print(f'odchylenie standardowe x:{std_X:.4f}')\n",
    "print(f'odchylenie standardowe y:{std_Y:.4f}')"
   ]
  },
  {
   "cell_type": "markdown",
   "metadata": {},
   "source": [
    "Dystrybuanta empiryczna\n"
   ]
  },
  {
   "cell_type": "markdown",
   "metadata": {},
   "source": [
    "![alt text](image-4.png)"
   ]
  },
  {
   "cell_type": "markdown",
   "metadata": {},
   "source": [
    "![alt text](image-5.png)"
   ]
  },
  {
   "cell_type": "code",
   "execution_count": null,
   "metadata": {},
   "outputs": [],
   "source": []
  }
 ],
 "metadata": {
  "kernelspec": {
   "display_name": "Python 3",
   "language": "python",
   "name": "python3"
  },
  "language_info": {
   "codemirror_mode": {
    "name": "ipython",
    "version": 3
   },
   "file_extension": ".py",
   "mimetype": "text/x-python",
   "name": "python",
   "nbconvert_exporter": "python",
   "pygments_lexer": "ipython3",
   "version": "3.11.2"
  }
 },
 "nbformat": 4,
 "nbformat_minor": 2
}
